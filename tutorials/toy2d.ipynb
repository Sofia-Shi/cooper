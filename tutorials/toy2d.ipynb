{
 "cells": [
  {
   "cell_type": "markdown",
   "metadata": {},
   "source": [
    "## TODO: Tutorial name\n",
    "This is a tutorial showcasing the functionality of cooper in the context of a convex constrained optimization problem.\n",
    "\n",
    "It is inspired by Engraved Blogpost"
   ]
  },
  {
   "cell_type": "markdown",
   "metadata": {},
   "source": [
    "### Setup\n",
    "Install cooper."
   ]
  },
  {
   "cell_type": "code",
   "execution_count": null,
   "metadata": {},
   "outputs": [],
   "source": [
    "!pip install git+https://github.com/gallego-posada/cooper\n",
    "# TODO: .[examples], try from scratch\n",
    "# !python setup.py install torch_cooper"
   ]
  },
  {
   "cell_type": "code",
   "execution_count": 7,
   "metadata": {},
   "outputs": [],
   "source": [
    "import numpy as np\n",
    "from collections import OrderedDict\n",
    "from copy import deepcopy as copy\n",
    "\n",
    "import ipywidgets as widgets\n",
    "import matplotlib.pyplot as plt\n",
    "\n",
    "import torch\n",
    "\n",
    "import cooper"
   ]
  },
  {
   "cell_type": "markdown",
   "metadata": {},
   "source": [
    "### Constrained Minimization Problem\n",
    "\n",
    "Cooper supports constrained minimization problems with the following form:\n",
    "\\begin{align}\n",
    "    & \\underset{x}{\\text{min}}\\, & f(x) \\tag{1} \\\\\n",
    "    & \\text{s.t.} & g(x) \\leq 0 \\\\\n",
    "    & & h(x) = 0\n",
    "\\end{align}"
   ]
  },
  {
   "cell_type": "markdown",
   "metadata": {},
   "source": [
    "In this tutorial, we consider the following constrained optimization problem on\n",
    " the 2D domain $(x, y) \\in [0,\\pi/2] \\times [0,\\infty]$\n",
    "\n",
    "\\begin{align*}\n",
    "\\underset{x, y}{\\text{min}}\\quad f(x,y) &:= \\left(1 - \\text{sin}(x) \\right) \\ \\big(1+y^2\\big) & \\tag{2} \\\\\n",
    "\n",
    "s.t. \\quad  g(x,y) &:= \\left(1 - \\text{cos}(x) \\right)\\ \\big(1+y^2\\big) - \\epsilon \\leq 0 & \\\\\n",
    "\n",
    "\\end{align*}\n",
    "\n",
    "given some $\\epsilon \\geq 0 $.\n",
    "Note how both $f$ and $g$ are convex functions in the specified domain.\n",
    "As such, this constrained minimization problem is a convex problem."
   ]
  },
  {
   "cell_type": "code",
   "execution_count": 2,
   "metadata": {},
   "outputs": [],
   "source": [
    "# Define a Constrained Minimization Problem. This object holds a state,\n",
    "# containing the current values of the loss (f), inequality constraint defects (g),\n",
    "# and equality constraint defects (h).\n",
    "\n",
    "\n",
    "class Convex2dCMP(cooper.ConstrainedMinimizationProblem):\n",
    "    def __init__(self, is_constrained=False, epsilon=1.0):\n",
    "        self.epsilon = epsilon\n",
    "        super().__init__(is_constrained)\n",
    "\n",
    "    def closure(self, params):\n",
    "        \"\"\"This function evaluates the objective function and constraint\n",
    "        defect. It updates the attributes of this CMP based on the results.\"\"\"\n",
    "\n",
    "        x = params[:, 0]\n",
    "        y = params[:, 1]\n",
    "\n",
    "        # assert x >= 0 and x <= np.pi / 2\n",
    "        # assert y >= 0\n",
    "\n",
    "        f = (1 - torch.sin(x)) * (1 + y ** 2)\n",
    "        g = (1 - torch.cos(x)) * (1 + y ** 2)\n",
    "\n",
    "        # Define the constraint defects\n",
    "        _ineq_defect = g - self.epsilon  # in standard form (defect <= 0)\n",
    "        _eq_defect = None  # no equality constraints\n",
    "\n",
    "        # Store the values in a CMPState as attributes\n",
    "        state = cooper.CMPState(\n",
    "            loss=f,\n",
    "            eq_defect=_eq_defect,\n",
    "            ineq_defect=_ineq_defect,\n",
    "            # other information can be stored in the misc dictionary. cooper\n",
    "            # will not access misc and does not require it.\n",
    "            misc={\"g\": g.data},\n",
    "        )\n",
    "\n",
    "        return state"
   ]
  },
  {
   "cell_type": "code",
   "execution_count": 3,
   "metadata": {},
   "outputs": [
    {
     "name": "stdout",
     "output_type": "stream",
     "text": [
      "None\n"
     ]
    }
   ],
   "source": []
  },
  {
   "cell_type": "markdown",
   "metadata": {},
   "source": [
    "There are many ways to solve problems formulated as Eq. (1). In particular,\n",
    "given our choice of problem in Eq. (2), we have convergence guarantees if we\n",
    "employ this or that to solve it. can\n",
    "\n",
    "Let us check the solution\n",
    "\n"
   ]
  },
  {
   "cell_type": "code",
   "execution_count": null,
   "metadata": {},
   "outputs": [],
   "source": [
    "# Initialize the ConvexCMP.\n",
    "EPSILON = 0.4\n",
    "cmp = Convex2dCMP(is_constrained=True, epsilon=EPSILON)"
   ]
  },
  {
   "cell_type": "markdown",
   "metadata": {},
   "source": [
    "### Formulation\n",
    "\n",
    "Cooper has been designed to be used on neural network training in Pytorch.\n",
    "As such, we use the Lagrangian formulation of Eq. (2) and optimize its respective\n",
    "min-max game:\n",
    "\n",
    "\\begin{align*}\n",
    "& \\underset{x, y}{\\text{min}}\\ \\underset{\\lambda \\geq 0}{\\text{max}}\\ f(x,y) +\n",
    "\\lambda g(x,y) \\tag{3} \\\\\n",
    "& \\underset{x, y}{\\text{min}}\\ \\underset{\\lambda \\geq 0}{\\text{max}}\\,\n",
    "\\big(1 - \\text{sin}(x) \\big) \\ \\big(1+y^2\\big) +\n",
    "\\lambda \\big(1 - \\text{cos}(x) \\big)\\ \\big(1+y^2\\big)  \\\\\n",
    "\n",
    "\\end{align*}\n",
    "\n",
    "Now we setup a Lagrangian formulation for ConstrainedMinimizationProblem `cmp`"
   ]
  },
  {
   "cell_type": "code",
   "execution_count": 4,
   "metadata": {},
   "outputs": [
    {
     "name": "stdout",
     "output_type": "stream",
     "text": [
      "[]\n"
     ]
    }
   ],
   "source": [
    "# By default, multipliers are initialized to zero. Otherwise, we could provide\n",
    "# ineq_init or eq_init for\n",
    "formulation = cooper.LagrangianFormulation(cmp, ineq_init=None, eq_init=None)"
   ]
  },
  {
   "cell_type": "markdown",
   "metadata": {},
   "source": [
    "### Optimizer\n",
    "\n",
    "Now, construct the optimizer\n",
    "Lagrangian via gradient descent ascent schemes.\n",
    "Compatible with any torch optimizer on the primal and dual\n"
   ]
  },
  {
   "cell_type": "code",
   "execution_count": 5,
   "metadata": {},
   "outputs": [],
   "source": [
    "params = torch.nn.Parameter(torch.tensor([[0.25, 1.5]]))"
   ]
  },
  {
   "cell_type": "code",
   "execution_count": 416,
   "metadata": {},
   "outputs": [],
   "source": [
    "# Wrapper around torch optimizers\n",
    "primal_optimizer = cooper.optim.SGD([params], lr=5e-3, momentum=0.0)\n",
    "# Dual variables are initialized internally by the formulation when the shape\n",
    "# of defects is identified. We provide a partial initializariion of the dual optim\n",
    "dual_optimizer = cooper.optim.partial(cooper.optim.SGD, lr=5e-3)\n",
    "\n",
    "# Initialize the constrained optimizer, which handles internally updates of the\n",
    "# primal and dual variables.\n",
    "constrained_optimizer = cooper.ConstrainedOptimizer(\n",
    "    formulation=formulation,\n",
    "    primal_optimizer=primal_optimizer,\n",
    "    dual_optimizer=dual_optimizer,\n",
    ")"
   ]
  },
  {
   "cell_type": "code",
   "execution_count": 6,
   "metadata": {},
   "outputs": [
    {
     "ename": "NameError",
     "evalue": "name 'constrained_optimizer' is not defined",
     "output_type": "error",
     "traceback": [
      "\u001b[0;31m---------------------------------------------------------------------------\u001b[0m",
      "\u001b[0;31mNameError\u001b[0m                                 Traceback (most recent call last)",
      "\u001b[1;32m/home/juan/Bureau/github/cooper/tutorials/toy2d.ipynb Cell 16'\u001b[0m in \u001b[0;36m<module>\u001b[0;34m\u001b[0m\n\u001b[1;32m      <a href='vscode-notebook-cell:/home/juan/Bureau/github/cooper/tutorials/toy2d.ipynb#ch0000016?line=4'>5</a>\u001b[0m state_history[\u001b[39m0\u001b[39m] \u001b[39m=\u001b[39m {\n\u001b[1;32m      <a href='vscode-notebook-cell:/home/juan/Bureau/github/cooper/tutorials/toy2d.ipynb#ch0000016?line=5'>6</a>\u001b[0m             \u001b[39m\"\u001b[39m\u001b[39mcmp\u001b[39m\u001b[39m\"\u001b[39m: cmp\u001b[39m.\u001b[39mstate,\n\u001b[1;32m      <a href='vscode-notebook-cell:/home/juan/Bureau/github/cooper/tutorials/toy2d.ipynb#ch0000016?line=6'>7</a>\u001b[0m             \u001b[39m\"\u001b[39m\u001b[39mdual\u001b[39m\u001b[39m\"\u001b[39m: copy(torch\u001b[39m.\u001b[39mtensor([[\u001b[39m0.\u001b[39m]])),\n\u001b[1;32m      <a href='vscode-notebook-cell:/home/juan/Bureau/github/cooper/tutorials/toy2d.ipynb#ch0000016?line=7'>8</a>\u001b[0m             \u001b[39m\"\u001b[39m\u001b[39mparams\u001b[39m\u001b[39m\"\u001b[39m: copy(params\u001b[39m.\u001b[39mdata)\n\u001b[1;32m      <a href='vscode-notebook-cell:/home/juan/Bureau/github/cooper/tutorials/toy2d.ipynb#ch0000016?line=8'>9</a>\u001b[0m             }\n\u001b[1;32m     <a href='vscode-notebook-cell:/home/juan/Bureau/github/cooper/tutorials/toy2d.ipynb#ch0000016?line=10'>11</a>\u001b[0m \u001b[39mfor\u001b[39;00m \u001b[39miter\u001b[39m \u001b[39min\u001b[39;00m \u001b[39mrange\u001b[39m(\u001b[39m1\u001b[39m, \u001b[39m2000\u001b[39m \u001b[39m+\u001b[39m \u001b[39m1\u001b[39m):\n\u001b[1;32m     <a href='vscode-notebook-cell:/home/juan/Bureau/github/cooper/tutorials/toy2d.ipynb#ch0000016?line=11'>12</a>\u001b[0m     \u001b[39m# Zero the gradients wrt the parameters and multipliers\u001b[39;00m\n\u001b[0;32m---> <a href='vscode-notebook-cell:/home/juan/Bureau/github/cooper/tutorials/toy2d.ipynb#ch0000016?line=12'>13</a>\u001b[0m     constrained_optimizer\u001b[39m.\u001b[39mzero_grad()\n\u001b[1;32m     <a href='vscode-notebook-cell:/home/juan/Bureau/github/cooper/tutorials/toy2d.ipynb#ch0000016?line=14'>15</a>\u001b[0m     \u001b[39m# Calculate the lagrangian.\u001b[39;00m\n\u001b[1;32m     <a href='vscode-notebook-cell:/home/juan/Bureau/github/cooper/tutorials/toy2d.ipynb#ch0000016?line=15'>16</a>\u001b[0m     lagrangian \u001b[39m=\u001b[39m formulation\u001b[39m.\u001b[39mcomposite_objective(\n\u001b[1;32m     <a href='vscode-notebook-cell:/home/juan/Bureau/github/cooper/tutorials/toy2d.ipynb#ch0000016?line=16'>17</a>\u001b[0m         cmp\u001b[39m.\u001b[39mclosure, \u001b[39m# forward-like function, computing loss and defects\u001b[39;00m\n\u001b[1;32m     <a href='vscode-notebook-cell:/home/juan/Bureau/github/cooper/tutorials/toy2d.ipynb#ch0000016?line=17'>18</a>\u001b[0m         params\u001b[39m=\u001b[39mparams, \u001b[39m# args and kwargs required for closure\u001b[39;00m\n\u001b[1;32m     <a href='vscode-notebook-cell:/home/juan/Bureau/github/cooper/tutorials/toy2d.ipynb#ch0000016?line=18'>19</a>\u001b[0m         )\n",
      "\u001b[0;31mNameError\u001b[0m: name 'constrained_optimizer' is not defined"
     ]
    }
   ],
   "source": [
    "# Store CMPStates and parameter values throughout the optimization process\n",
    "\n",
    "state_history = OrderedDict()\n",
    "\n",
    "state_history[0] = {\n",
    "    \"cmp\": cmp.state,\n",
    "    \"dual\": copy(torch.tensor([[0.0]])),\n",
    "    \"params\": copy(params.data),\n",
    "}\n",
    "\n",
    "for iter in range(1, 2000 + 1):\n",
    "    # Zero the gradients wrt the parameters and multipliers\n",
    "    constrained_optimizer.zero_grad()\n",
    "\n",
    "    # Calculate the lagrangian.\n",
    "    lagrangian = formulation.composite_objective(\n",
    "        cmp.closure,  # forward-like function, computing loss and defects\n",
    "        params=params,  # args and kwargs required for closure\n",
    "    )\n",
    "\n",
    "    # Backward\n",
    "    formulation.custom_backward(lagrangian)\n",
    "\n",
    "    # Step\n",
    "    constrained_optimizer.step()\n",
    "\n",
    "    # Clip parameters\n",
    "    params[:, 0].data.clamp_(min=0, max=np.pi / 2)\n",
    "    params[:, 1].data.clamp_(min=0)\n",
    "\n",
    "    state_history[iter] = {\n",
    "        \"cmp\": cmp.state,\n",
    "        \"dual\": copy(formulation.state()),\n",
    "        \"params\": copy(params.data),\n",
    "    }"
   ]
  },
  {
   "cell_type": "code",
   "execution_count": 418,
   "metadata": {},
   "outputs": [],
   "source": [
    "iters, loss_hist = zip(\n",
    "    *[(iter_num, _[\"cmp\"].loss.item()) for (iter_num, _) in state_history.items()]\n",
    ")\n",
    "\n",
    "params_hist = np.stack(\n",
    "    [_[\"params\"].data.numpy() for (foo, _) in state_history.items()], axis=1\n",
    ").squeeze()\n",
    "\n",
    "mult_hist = np.stack(\n",
    "    [_[\"dual\"][0].data.numpy() for (foo, _) in state_history.items()], axis=1\n",
    ")\n",
    "\n",
    "defect_hist = np.stack(\n",
    "    [_[\"cmp\"].ineq_defect.data.numpy() for (foo, _) in state_history.items()], axis=1\n",
    ")"
   ]
  },
  {
   "cell_type": "code",
   "execution_count": 419,
   "metadata": {},
   "outputs": [
    {
     "data": {
      "image/png": "[encoded data removed]",
      "text/plain": [
       "<Figure size 432x288 with 1 Axes>"
      ]
     },
     "metadata": {
      "needs_background": "light"
     },
     "output_type": "display_data"
    }
   ],
   "source": [
    "plt.plot(iters, defect_hist.squeeze())\n",
    "plt.axhline(0.0, c=\"r\", alpha=0.2)\n",
    "plt.title(r\"Defect $g(x,y)$\")\n",
    "plt.show()"
   ]
  },
  {
   "cell_type": "code",
   "execution_count": 420,
   "metadata": {},
   "outputs": [
    {
     "data": {
      "image/png": "[encoded data removed]",
      "text/plain": [
       "<Figure size 432x288 with 1 Axes>"
      ]
     },
     "metadata": {
      "needs_background": "light"
     },
     "output_type": "display_data"
    }
   ],
   "source": [
    "plt.plot(iters, params_hist)\n",
    "plt.plot(iters, mult_hist.squeeze())\n",
    "plt.show()"
   ]
  },
  {
   "cell_type": "code",
   "execution_count": null,
   "metadata": {},
   "outputs": [],
   "source": []
  },
  {
   "cell_type": "code",
   "execution_count": 421,
   "metadata": {},
   "outputs": [
    {
     "data": {
      "text/plain": [
       "<matplotlib.collections.PathCollection at 0x2a22d563250>"
      ]
     },
     "execution_count": 421,
     "metadata": {},
     "output_type": "execute_result"
    },
    {
     "data": {
      "image/png": "[encoded data removed]",
      "text/plain": [
       "<Figure size 432x288 with 1 Axes>"
      ]
     },
     "metadata": {
      "needs_background": "light"
     },
     "output_type": "display_data"
    }
   ],
   "source": [
    "x_range = torch.tensor(np.linspace(0, np.pi / 2, 100))\n",
    "y_range = torch.tensor(np.linspace(0, 2.0, 100))\n",
    "grid_x, grid_y = torch.meshgrid(x_range, y_range, indexing=\"ij\")\n",
    "\n",
    "grid_params = torch.stack([grid_x.flatten(), grid_y.flatten()], axis=1)\n",
    "all_states = cmp.closure(grid_params)\n",
    "\n",
    "fig, ax = plt.subplots()\n",
    "CS = ax.contour(\n",
    "    grid_x,\n",
    "    grid_y,\n",
    "    all_states.loss.reshape(len(x_range), len(y_range)),\n",
    "    [0.05, 0.125, 0.25, 0.5, 1, 1.5, 2.0, 3.0],\n",
    "    alpha=0.6,\n",
    ")\n",
    "ax.clabel(CS, inline=1, fontsize=10)\n",
    "\n",
    "cg3 = ax.contourf(\n",
    "    grid_x,\n",
    "    grid_y,\n",
    "    all_states.ineq_defect.reshape(len(x_range), len(y_range)),\n",
    "    [-10, 0],\n",
    "    colors=\"gray\",\n",
    "    alpha=0.1,\n",
    ")\n",
    "\n",
    "plt.scatter(*params_hist.T, s=3, c=\"red\")\n",
    "# plt.ylim(-0.02, 1.02)\n",
    "# plt.xlim(-0.02, np.pi/2 + 2e-2)"
   ]
  },
  {
   "cell_type": "code",
   "execution_count": 422,
   "metadata": {},
   "outputs": [
    {
     "data": {
      "image/png": "[encoded data removed]",
      "text/plain": [
       "<Figure size 432x288 with 1 Axes>"
      ]
     },
     "metadata": {
      "needs_background": "light"
     },
     "output_type": "display_data"
    }
   ],
   "source": [
    "# Theoretical boundary\n",
    "x_range = torch.tensor(np.linspace(0, np.pi / 2, 100))\n",
    "y_range = torch.tensor(100 * [0.0])\n",
    "all_states = cmp.closure(torch.stack([x_range, y_range], axis=1))\n",
    "plt.plot(\n",
    "    all_states.loss, EPSILON + all_states.ineq_defect.squeeze(), c=\"gray\", alpha=0.5\n",
    ")\n",
    "\n",
    "# Achieved trajectory\n",
    "plt.scatter(loss_hist, EPSILON + defect_hist.squeeze(), s=2, c=\"red\")\n",
    "plt.scatter(\n",
    "    loss_hist[-1], EPSILON + defect_hist.squeeze()[-1], marker=\"*\", s=100, c=\"blue\"\n",
    ")\n",
    "plt.axhline(EPSILON, c=\"r\", alpha=0.2)\n",
    "plt.xlabel(\"Objective\")\n",
    "plt.ylabel(\"Constraint\")\n",
    "plt.show()"
   ]
  },
  {
   "cell_type": "markdown",
   "metadata": {},
   "source": [
    "## Training dynamics"
   ]
  },
  {
   "cell_type": "markdown",
   "metadata": {},
   "source": [
    "TODO:\n",
    "- grid of plots for these initial 3\n",
    "- hline for optimal solution\n",
    "- ipywidgets\n",
    "- move bulk to plot_helpers.py\n"
   ]
  }
 ],
 "metadata": {
  "interpreter": {
   "hash": "e95f21d6d24b9c057dc89e3e94c7b1d285f49ff39a3b96b3de58d480bdf45a1c"
  },
  "kernelspec": {
   "display_name": "Python 3.8.12 ('coop')",
   "language": "python",
   "name": "python3"
  },
  "language_info": {
   "codemirror_mode": {
    "name": "ipython",
    "version": 3
   },
   "file_extension": ".py",
   "mimetype": "text/x-python",
   "name": "python",
   "nbconvert_exporter": "python",
   "pygments_lexer": "ipython3",
   "version": "3.8.12"
  },
  "orig_nbformat": 4
 },
 "nbformat": 4,
 "nbformat_minor": 2
}
