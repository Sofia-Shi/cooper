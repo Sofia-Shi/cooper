{
 "cells": [
  {
   "cell_type": "code",
   "execution_count": 2,
   "metadata": {},
   "outputs": [],
   "source": [
    "import os\n",
    "from collections import OrderedDict\n",
    "\n",
    "import numpy as np\n",
    "import matplotlib.pyplot as plt\n",
    "\n",
    "import torch\n",
    "\n",
    "import cooper\n",
    "from copy import deepcopy as copy"
   ]
  },
  {
   "cell_type": "markdown",
   "metadata": {},
   "source": [
    "### Maximum entropy\n",
    "\n",
    "This example is inspired by [this StackExchange question](https://datascience.stackexchange.com/questions/107366/how-do-you-solve-strictly-constrained-optimization-problems-with-pytorch).\n",
    "\n",
    ">I am trying to solve the following problem using pytorch: given a six sided die whose\n",
    ">average roll is known to be 4.5, what is the maximum entropy distribution for the faces?"
   ]
  },
  {
   "cell_type": "code",
   "execution_count": 202,
   "metadata": {},
   "outputs": [],
   "source": [
    "class MaxEntropyDice(torch.nn.Module):\n",
    "    def __init__(self, num_faces=6, mean_constraint=3.5):\n",
    "        super().__init__()\n",
    "        self.mean_constraint = mean_constraint\n",
    "        p_init = torch.nn.functional.normalize(torch.rand(num_faces), p=1, dim=0)\n",
    "        self.p = torch.nn.Parameter(p_init)\n",
    "\n",
    "    def forward(self):\n",
    "        # self.p.data = torch.clip(self.p.data, min=0., max=1.)\n",
    "        return self.p\n",
    "\n",
    "\n",
    "class MaximumEntropy(cooper.ConstrainedMinimizationProblem):\n",
    "    def __init__(self):\n",
    "        super().__init__(is_constrained=True)\n",
    "\n",
    "    def closure(self, model):\n",
    "\n",
    "        prob = model.forward()\n",
    "\n",
    "        assert torch.all(prob >= 0)\n",
    "\n",
    "        # Extra multiplication by -1 to *maximize*\n",
    "        entropy = (-1) * -torch.sum(prob * torch.log(prob))\n",
    "\n",
    "        # Entries of p>=0 (equiv. -p <= 0)\n",
    "        ineq_defect = -prob\n",
    "\n",
    "        prob_sum = torch.sum(prob)\n",
    "        prob_mean = torch.sum(torch.tensor(range(1, len(prob) + 1)) * prob)\n",
    "        eq_defect = torch.stack([prob_sum - 1, prob_mean - model.mean_constraint])\n",
    "\n",
    "        return cooper.CMPState(\n",
    "            loss=entropy, eq_defect=eq_defect, ineq_defect=ineq_defect\n",
    "        )"
   ]
  },
  {
   "cell_type": "code",
   "execution_count": 223,
   "metadata": {},
   "outputs": [],
   "source": [
    "cmp = MaximumEntropy()\n",
    "formulation = cooper.LagrangianFormulation(cmp)\n",
    "\n",
    "model = MaxEntropyDice(num_faces=6, mean_constraint=4.5)\n",
    "\n",
    "primal_optimizer = cooper.optim.ExtraAdam(model.parameters(), lr=5e-3)\n",
    "dual_optimizer = cooper.optim.partial(cooper.optim.ExtraAdam, lr=1e-3)\n",
    "\n",
    "coop = cooper.ConstrainedOptimizer(\n",
    "    formulation=formulation,\n",
    "    primal_optimizer=primal_optimizer,\n",
    "    dual_optimizer=dual_optimizer,\n",
    ")"
   ]
  },
  {
   "cell_type": "code",
   "execution_count": 224,
   "metadata": {},
   "outputs": [
    {
     "name": "stdout",
     "output_type": "stream",
     "text": [
      "CMPState(loss=tensor(-1.6136, grad_fn=<MulBackward0>), ineq_defect=tensor([-0.0544, -0.0790, -0.1138, -0.1656, -0.2398, -0.3475],\n",
      "       grad_fn=<NegBackward0>), eq_defect=tensor([-6.0797e-06, -1.2159e-04], grad_fn=<StackBackward0>), proxy_ineq_defect=None, proxy_eq_defect=None, misc=None)\n"
     ]
    }
   ],
   "source": [
    "state_history = OrderedDict()\n",
    "\n",
    "for iter_num in range(5000):\n",
    "\n",
    "    coop.zero_grad()\n",
    "    lagrangian = formulation.composite_objective(cmp.closure, model)\n",
    "    formulation.custom_backward(lagrangian)\n",
    "    coop.step(cmp.closure, model)\n",
    "\n",
    "    if iter_num % 5 == 0:\n",
    "        state_history[iter_num] = {\n",
    "            \"cmp\": cmp.state,\n",
    "            \"dual\": copy(formulation.state()),\n",
    "            \"params\": copy(model.p),\n",
    "        }\n",
    "\n",
    "print(cmp.state)"
   ]
  },
  {
   "cell_type": "code",
   "execution_count": 225,
   "metadata": {},
   "outputs": [
    {
     "data": {
      "text/plain": [
       "tensor(1.6136)"
      ]
     },
     "execution_count": 225,
     "metadata": {},
     "output_type": "execute_result"
    }
   ],
   "source": [
    "# True solution for mean=4.5\n",
    "a = torch.tensor([0.05435, 0.07877, 0.1142, 0.1654, 0.2398, 0.3475])\n",
    "-torch.sum(a * torch.log(a))"
   ]
  },
  {
   "cell_type": "code",
   "execution_count": 228,
   "metadata": {},
   "outputs": [],
   "source": [
    "# Multiply again by -1 to get objective with original sign\n",
    "iters, loss_history = zip(\n",
    "    *[(iter_num, -1 * _[\"cmp\"].loss.item()) for (iter_num, _) in state_history.items()]\n",
    ")\n",
    "mult_hist = np.stack(\n",
    "    [_[\"dual\"][1].data.numpy() for (foo, _) in state_history.items()], axis=1\n",
    ")\n",
    "eq_defect_hist = np.stack(\n",
    "    [_[\"cmp\"].eq_defect.data.numpy() for (foo, _) in state_history.items()], axis=1\n",
    ")"
   ]
  },
  {
   "cell_type": "code",
   "execution_count": 229,
   "metadata": {},
   "outputs": [
    {
     "data": {
      "image/png": "[encoded data removed]",
      "text/plain": [
       "<Figure size 1080x216 with 3 Axes>"
      ]
     },
     "metadata": {
      "needs_background": "light"
     },
     "output_type": "display_data"
    }
   ],
   "source": [
    "fig, (ax0, ax1, ax2) = plt.subplots(nrows=1, ncols=3, sharex=True, figsize=(15, 3))\n",
    "\n",
    "ax0.plot(iters, mult_hist.T)\n",
    "ax0.set_title(\"Multipliers\")\n",
    "\n",
    "ax1.plot(iters, eq_defect_hist.T, alpha=0.6)\n",
    "ax1.axhline(0.0, c=\"r\", alpha=0.2)\n",
    "ax1.set_title(\"Defects\")\n",
    "\n",
    "ax2.plot(iters, loss_history)\n",
    "ax2.set_title(\"Objective\")\n",
    "\n",
    "plt.show()"
   ]
  },
  {
   "cell_type": "code",
   "execution_count": null,
   "metadata": {},
   "outputs": [],
   "source": []
  }
 ],
 "metadata": {
  "interpreter": {
   "hash": "5b5416066f703e73dc2bf3c4e66d036632ca71ae166bbdd9bd33a210b8a690df"
  },
  "kernelspec": {
   "display_name": "Python 3.8.12 ('cooper')",
   "language": "python",
   "name": "python3"
  },
  "language_info": {
   "codemirror_mode": {
    "name": "ipython",
    "version": 3
   },
   "file_extension": ".py",
   "mimetype": "text/x-python",
   "name": "python",
   "nbconvert_exporter": "python",
   "pygments_lexer": "ipython3",
   "version": "3.8.12"
  },
  "orig_nbformat": 4
 },
 "nbformat": 4,
 "nbformat_minor": 2
}
